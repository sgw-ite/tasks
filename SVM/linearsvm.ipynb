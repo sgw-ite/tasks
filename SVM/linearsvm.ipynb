{
 "cells": [
  {
   "cell_type": "code",
   "execution_count": 3,
   "metadata": {},
   "outputs": [],
   "source": [
    "import numpy as np\n",
    "import metrics\n",
    "\n",
    "class linearsvm_classifier():\n",
    "    def __init__(self):\n",
    "        self._theta = None\n",
    "        self._omiga = None\n",
    "        self._b = 0\n",
    "        self._lamda = 1\n",
    "\n",
    "    def _J(self, theta, X_train, y_train, lamda):\n",
    "        u = y_train * X_train.T.dot(self._theta)\n",
    "        J = (lamda*0.5) * np.sum(self._theta[1:,:] **2) + np.sum(u<=1)(1-u) / len(X_train)\n",
    "        return J\n",
    "    \n",
    "    def _dJ(self, theta, X_train, y_train, lamda):\n",
    "        u = y_train * self._theta.T.dot(X_train)\n",
    "        gradient = lamda*theta + ((1-u)>0)*np.sum(y_train * X_train) / len(X_train)\n",
    "        return gradient\n",
    "\n",
    "    def fit(self, X_train, y_train, max_iter=1e3, epsilon=1e-4, eta=0.01, lamda=1):\n",
    "        X_b = np.hstack([X_train, np.ones((len(X_train),1))])\n",
    "        theta = np.zeros(X_b.shape[1])        \n",
    "        cur_iter = 0\n",
    "            \n",
    "        while cur_iter < max_iter:                \n",
    "            gradient = self._dJ(theta, X_b, y_train, lamda)\n",
    "            lasttheta = theta\n",
    "            theta = theta - eta * gradient\n",
    "            #self.h.append(1)\n",
    "            #cur_iter += 1\n",
    "            if abs(self._J(X_b, y_train, theta, lamda) - self._J(X_b, y_train, lasttheta, lamda)) < epsilon:\n",
    "                break\n",
    "            cur_iter += 1 \n",
    "            self._theta = theta\n",
    "            self._b = self._theta[-1]\n",
    "            self._omiga = self._theta[:-1]\n",
    "            \n",
    "        return self\n",
    "    \n",
    "    def predict(self, X_test):\n",
    "        X_b = np.hstack([X_test, np.ones((len(X_test),1))])\n",
    "        return np.array((X_test.T.dot(self._theta)>0), dtype='int')\n",
    "    \n",
    "    def score(self, X_test, y_test, scoring=metrics.acc_score):\n",
    "        y_pred = self.predict(X_test)\n",
    "        score = scoring(y_pred, y_test)\n",
    "        return score"
   ]
  }
 ],
 "metadata": {
  "kernelspec": {
   "display_name": "Python 3",
   "language": "python",
   "name": "python3"
  },
  "language_info": {
   "codemirror_mode": {
    "name": "ipython",
    "version": 3
   },
   "file_extension": ".py",
   "mimetype": "text/x-python",
   "name": "python",
   "nbconvert_exporter": "python",
   "pygments_lexer": "ipython3",
   "version": "3.7.0"
  }
 },
 "nbformat": 4,
 "nbformat_minor": 2
}
