{
 "cells": [
  {
   "cell_type": "code",
   "execution_count": 1,
   "metadata": {},
   "outputs": [],
   "source": [
    "import numpy as np\n",
    "import pandas as pd\n",
    "import matplotlib.pyplot as plt\n",
    "import Feature_Engineering #特征工程处理\n",
    "import train_test_split as tts\n",
    "from LSVMClassifier import LSVMClassifier as LSC\n",
    "from sklearn.svm import LinearSVC\n",
    "from sklearn import datasets\n"
   ]
  },
  {
   "cell_type": "code",
   "execution_count": 2,
   "metadata": {},
   "outputs": [],
   "source": [
    "X_train, y_train = Feature_Engineering.datatransform(file='./train.csv')\n",
    "X_train, y_train, X_test, y_test = tts.holdout(X_train, y_train)\n",
    "lsc = LSC(lamda=0.5)"
   ]
  },
  {
   "cell_type": "code",
   "execution_count": 5,
   "metadata": {},
   "outputs": [
    {
     "name": "stdout",
     "output_type": "stream",
     "text": [
      "0.7865168539325843 0.3\n",
      "CPU times: user 1min, sys: 183 ms, total: 1min\n",
      "Wall time: 1min\n"
     ]
    }
   ],
   "source": [
    "%%time\n",
    "best_score = 0\n",
    "best_lamda = None\n",
    "\n",
    "for lamda in [j/10 for j in range(3,20)]:\n",
    "    lsc = LSC(lamda)\n",
    "    lsc.fit(X_train, y_train)\n",
    "    score = lsc.score(X_test,y_test)\n",
    "    if score > best_score:\n",
    "        best_score, best_lamda = score, lamda\n",
    "\n",
    "print(best_score, best_lamda)"
   ]
  },
  {
   "cell_type": "code",
   "execution_count": 3,
   "metadata": {},
   "outputs": [
    {
     "data": {
      "text/plain": [
       "<LSVMClassifier.LSVMClassifier at 0x7fb7d35e6ba8>"
      ]
     },
     "execution_count": 3,
     "metadata": {},
     "output_type": "execute_result"
    }
   ],
   "source": [
    "lsc.fit(X_train, y_train, eta=0.1)"
   ]
  },
  {
   "cell_type": "code",
   "execution_count": 4,
   "metadata": {},
   "outputs": [
    {
     "data": {
      "text/plain": [
       "0.7865168539325843"
      ]
     },
     "execution_count": 4,
     "metadata": {},
     "output_type": "execute_result"
    }
   ],
   "source": [
    "lsc.score(X_test, y_test)"
   ]
  },
  {
   "cell_type": "code",
   "execution_count": 10,
   "metadata": {},
   "outputs": [
    {
     "data": {
      "text/plain": [
       "0.8014981273408239"
      ]
     },
     "execution_count": 10,
     "metadata": {},
     "output_type": "execute_result"
    }
   ],
   "source": [
    "svc = LinearSVC()\n",
    "svc.fit(X_train,y_train)\n",
    "svc.score(X_test,y_test)"
   ]
  },
  {
   "cell_type": "code",
   "execution_count": 3,
   "metadata": {},
   "outputs": [],
   "source": [
    "wines = datasets.load_wine()\n",
    "X_train, y_train = wines.data, wines.target\n",
    "X_train, y_train, X_test, y_test = tts.holdout(X_train, y_train)\n",
    "lsc = LSC()"
   ]
  }
 ],
 "metadata": {
  "kernelspec": {
   "display_name": "Python 3",
   "language": "python",
   "name": "python3"
  },
  "language_info": {
   "codemirror_mode": {
    "name": "ipython",
    "version": 3
   },
   "file_extension": ".py",
   "mimetype": "text/x-python",
   "name": "python",
   "nbconvert_exporter": "python",
   "pygments_lexer": "ipython3",
   "version": "3.7.0"
  }
 },
 "nbformat": 4,
 "nbformat_minor": 2
}
