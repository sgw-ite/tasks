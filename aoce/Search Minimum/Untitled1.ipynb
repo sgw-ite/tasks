{
 "cells": [
  {
   "cell_type": "code",
   "execution_count": 1,
   "metadata": {
    "collapsed": true
   },
   "outputs": [],
   "source": [
    "def init_individual(self):\n",
    "        for xx in range(self.size):\n",
    "            for yy in range(self.dim) :\n",
    "                self.X[xx][yy] = (np.random.random(1) - 0.5) * 5.12 * 2\n",
    "                self.V[xx][yy] = (np.random.random(1) - 0.5) * 0.512 * 2\n",
    "            self.pbestX[xx] = self.X[xx]\n",
    "            self.y = self.Y(self.X[xx])\n",
    "            self.pbesty[xx] = self.y\n",
    "            if self.y < self.gbesty:\n",
    "                self.gbesty = self.y\n",
    "                self.gbestX = self.X[xx]\n",
    "        return self"
   ]
  },
  {
   "cell_type": "code",
   "execution_count": null,
   "metadata": {
    "collapsed": true
   },
   "outputs": [],
   "source": [
    "for j in range(self.dim):\n",
    "    if abs(self.V[i][j]) >= self.Vbound :\n",
    "        self.V[i][j] = self.Vbound\n",
    "        self.X[i] = self.X[i] + self.V[i]\n",
    "for j in range(self.dim):\n",
    "    if abs(self.X[i][j]) >= self.Xbound :\n",
    "    self.X[i][j] = self.Xbound"
   ]
  }
 ],
 "metadata": {
  "kernelspec": {
   "display_name": "Python 3",
   "language": "python",
   "name": "python3"
  },
  "language_info": {
   "codemirror_mode": {
    "name": "ipython",
    "version": 3
   },
   "file_extension": ".py",
   "mimetype": "text/x-python",
   "name": "python",
   "nbconvert_exporter": "python",
   "pygments_lexer": "ipython3",
   "version": "3.6.3"
  }
 },
 "nbformat": 4,
 "nbformat_minor": 2
}
