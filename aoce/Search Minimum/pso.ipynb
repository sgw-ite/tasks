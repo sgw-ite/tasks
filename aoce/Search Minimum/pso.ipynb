{
 "cells": [
  {
   "cell_type": "code",
   "execution_count": 1,
   "metadata": {
    "collapsed": true
   },
   "outputs": [],
   "source": [
    "import numpy as np\n",
    "import math\n",
    "\n",
    "class Pso:\n",
    "    def __init__(self,dim,Xbound,Vbound,size,c1=2,c2=2,w=1,max_iter=100):\n",
    "        self.dim = dim\n",
    "        self.Xbound = Xbound\n",
    "        self.Vbound = Vbound\n",
    "        self.size = size\n",
    "        self.r1 = np.random.random(1)\n",
    "        self.r2 = np.random.random(1)\n",
    "        self.max_iter = max_iter\n",
    "        self.c1 = c1\n",
    "        self.c2 = c2\n",
    "        self.w = w\n",
    "        self.X = np.zeros((self.size,self.dim))\n",
    "        self.V = np.zeros((self.size,self.dim))\n",
    "        self.pbestX = np.zeros((self.size,self.dim))\n",
    "        self.gbestX = np.zeros((1,self.dim))\n",
    "        self.pbesty = np.zeros(self.size)\n",
    "        self.gbesty = 1e9\n",
    "    def individualinit(self):\n",
    "        for xx in range(self.size):\n",
    "            for yy in range(self.dim) :\n",
    "                self.X[xx][yy] = (np.random(1) - 0.5) * 5.12\n",
    "                self.V[xx][yy] = (np.random(1) - 0.5) * 0.512\n",
    "            self.pbestX[xx] = self.X[xx]\n",
    "            y = y(self.X[xx])\n",
    "            self.pbesty = y\n",
    "            if y < self.gbesty:\n",
    "                self.gbesty = y\n",
    "                self.gbestX[xx] = self.X[xx]\n",
    "    def y(self,X):\n",
    "        y = np.sum(X**2-math.cos(2*math.pi*X))\n",
    "    def iterator(self):\n",
    "        yhistory = []\n",
    "        for n in range(self.maxiter):\n",
    "            for i in range(self.size):\n",
    "                y = self.y(self.X[i])\n",
    "                if y < self.pbesty:\n",
    "                    self.pbesty[i] = y\n",
    "                    self.pbestX[i] = self.X[i]\n",
    "                    if y < self.gbesty:\n",
    "                        self.gbesty = y\n",
    "                        self.gbestX = X[i]\n",
    "            for i in range(slef.size):   \n",
    "                self.V[i] = self.w * self.V[i] + self.c1 * self.r1 * (self.pbest[i] - self.X[i]) + \\\n",
    "                            self.c2 * self.r2 * (self.gbest - self.X[i])\n",
    "                for j in range(sell.dim):\n",
    "                    if abs(self.V[i][j]) <= self.Vbound :\n",
    "                        self.V[i][j] = self.Vbound\n",
    "                self.X[i] = self.X[i] + self.V[i]\n",
    "                for j in range(sell.dim):\n",
    "                    if abs(self.X[i][j]) <= self.Xbound :\n",
    "                        self.X[i][j] = self.Xbound\n",
    "            yhistory.append(slef.gbesty)\n",
    "        print(self.gbestX)\n",
    "        print(self.gbesty)\n",
    "        return yhistory  \n",
    "                    "
   ]
  },
  {
   "cell_type": "code",
   "execution_count": null,
   "metadata": {
    "collapsed": true
   },
   "outputs": [],
   "source": []
  },
  {
   "cell_type": "code",
   "execution_count": null,
   "metadata": {
    "collapsed": true
   },
   "outputs": [],
   "source": []
  }
 ],
 "metadata": {
  "kernelspec": {
   "display_name": "Python 3",
   "language": "python",
   "name": "python3"
  },
  "language_info": {
   "codemirror_mode": {
    "name": "ipython",
    "version": 3
   },
   "file_extension": ".py",
   "mimetype": "text/x-python",
   "name": "python",
   "nbconvert_exporter": "python",
   "pygments_lexer": "ipython3",
   "version": "3.6.3"
  }
 },
 "nbformat": 4,
 "nbformat_minor": 2
}
