{
 "cells": [
  {
   "cell_type": "code",
   "execution_count": 1,
   "metadata": {},
   "outputs": [
    {
     "name": "stderr",
     "output_type": "stream",
     "text": [
      "/home/sgw/anaconda3/lib/python3.7/site-packages/sklearn/ensemble/weight_boosting.py:29: DeprecationWarning: numpy.core.umath_tests is an internal NumPy module and should not be imported. It will be removed in a future NumPy release.\n",
      "  from numpy.core.umath_tests import inner1d\n"
     ]
    }
   ],
   "source": [
    "import numpy as np\n",
    "import Feature_Engineering\n",
    "from DTClassifier import DTClassifier as DTC\n",
    "from LClassifier import LClassifier as LRC\n",
    "import train_test_split as tts\n",
    "from LSVMClassifier import LSVMClassifier as LSVMC\n",
    "import metrics\n",
    "from sklearn.ensemble import BaggingClassifier"
   ]
  },
  {
   "cell_type": "code",
   "execution_count": 2,
   "metadata": {},
   "outputs": [],
   "source": [
    "X_train, y_train = Feature_Engineering.datatransform(file='./train.csv')\n",
    "X_train, y_train, X_test, y_test = tts.bootstrapping(X_train, y_train)"
   ]
  },
  {
   "cell_type": "code",
   "execution_count": 4,
   "metadata": {},
   "outputs": [],
   "source": [
    "dtc = DTC(max_gini=0.3, min_samples=20)\n",
    "lrc = LRC()\n",
    "lsvmc = LSVMC()"
   ]
  },
  {
   "cell_type": "code",
   "execution_count": 5,
   "metadata": {},
   "outputs": [
    {
     "data": {
      "text/plain": [
       "<LSVMClassifier.LSVMClassifier at 0x7fa6f01d0c50>"
      ]
     },
     "execution_count": 5,
     "metadata": {},
     "output_type": "execute_result"
    }
   ],
   "source": [
    "dtc.fit(X_train, y_train)\n",
    "lrc.fit(X_train, y_train)\n",
    "lsvmc.fit(X_train, y_train)"
   ]
  },
  {
   "cell_type": "code",
   "execution_count": 6,
   "metadata": {},
   "outputs": [
    {
     "data": {
      "text/plain": [
       "(0.7636363636363637, 0.7890909090909091, 0.8)"
      ]
     },
     "execution_count": 6,
     "metadata": {},
     "output_type": "execute_result"
    }
   ],
   "source": [
    "dtc.score(X_test, y_test), lrc.score(X_test, y_test), lsvmc.score(X_test, y_test)"
   ]
  },
  {
   "cell_type": "code",
   "execution_count": 18,
   "metadata": {},
   "outputs": [
    {
     "data": {
      "text/plain": [
       "0.7940074906367042"
      ]
     },
     "execution_count": 18,
     "metadata": {},
     "output_type": "execute_result"
    }
   ],
   "source": [
    "y_pred = np.array((dtc.predict(X_test) + lrc.predict(X_test) + lsvmc.predict(X_test))>=2,dtype='int')\n",
    "metrics.acc_score(y_pred, y_test)"
   ]
  },
  {
   "cell_type": "code",
   "execution_count": 7,
   "metadata": {},
   "outputs": [
    {
     "data": {
      "text/plain": [
       "0.7836879432624113"
      ]
     },
     "execution_count": 7,
     "metadata": {},
     "output_type": "execute_result"
    }
   ],
   "source": [
    "X, y = Feature_Engineering.datatransform(file='./train.csv')\n",
    "X_train, y_train, X_test, y_test = tts.bootstrapping(X, y)\n",
    "dtc.fit(X_train, y_train)\n",
    "X_train, y_train, X_test, y_test = tts.bootstrapping(X, y)\n",
    "lrc.fit(X_train, y_train)\n",
    "X_train, y_train, X_test, y_test = tts.bootstrapping(X, y)\n",
    "lsvmc.fit(X_train, y_train)\n",
    "y_pred = np.array((dtc.predict(X_test) + lrc.predict(X_test) + lsvmc.predict(X_test))>=2,dtype='int')\n",
    "metrics.acc_score(y_pred, y_test)"
   ]
  },
  {
   "cell_type": "code",
   "execution_count": 5,
   "metadata": {},
   "outputs": [
    {
     "data": {
      "text/plain": [
       "array([1, 2, 2, 3, 4])"
      ]
     },
     "execution_count": 5,
     "metadata": {},
     "output_type": "execute_result"
    }
   ],
   "source": [
    "d = np.array([1,2,2,3,4])\n",
    "d2 = np.array([[1,2,4],[2,3,4]])\n",
    "d[:5]"
   ]
  }
 ],
 "metadata": {
  "kernelspec": {
   "display_name": "Python 3",
   "language": "python",
   "name": "python3"
  },
  "language_info": {
   "codemirror_mode": {
    "name": "ipython",
    "version": 3
   },
   "file_extension": ".py",
   "mimetype": "text/x-python",
   "name": "python",
   "nbconvert_exporter": "python",
   "pygments_lexer": "ipython3",
   "version": "3.7.0"
  }
 },
 "nbformat": 4,
 "nbformat_minor": 2
}
