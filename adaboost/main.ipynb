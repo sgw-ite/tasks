{
 "cells": [
  {
   "cell_type": "code",
   "execution_count": 26,
   "metadata": {},
   "outputs": [],
   "source": [
    "import numpy as np\n",
    "from DTClassifier import DTClassifier as DTC\n",
    "from Feature_Engineering import datatransform\n",
    "import train_test_split as tts\n",
    "import metrics"
   ]
  },
  {
   "cell_type": "code",
   "execution_count": 27,
   "metadata": {},
   "outputs": [],
   "source": [
    "file = './train.csv'\n",
    "X_train, y_train = datatransform(file)"
   ]
  },
  {
   "cell_type": "code",
   "execution_count": 28,
   "metadata": {},
   "outputs": [],
   "source": [
    "X_train, y_train, X_test, y_test = tts.holdout(X_train, y_train)"
   ]
  },
  {
   "cell_type": "code",
   "execution_count": 29,
   "metadata": {},
   "outputs": [],
   "source": [
    "weight = np.ones(len(y_train))/len(y_train)"
   ]
  },
  {
   "cell_type": "code",
   "execution_count": 30,
   "metadata": {},
   "outputs": [],
   "source": [
    "classifiers = []\n",
    "a_history = []\n",
    "weight_history = []"
   ]
  },
  {
   "cell_type": "code",
   "execution_count": 31,
   "metadata": {},
   "outputs": [
    {
     "name": "stdout",
     "output_type": "stream",
     "text": [
      "weight\n",
      " 1.0000000000000002\n",
      "0.815112540192926 \n",
      " 0 [0.00184013 0.00184013 0.00087638 0.00184013 0.00184013]\n",
      "weight\n",
      " 0.9999999999999998\n",
      "0.8102893890675241 \n",
      " 1 [0.00199257 0.00199257 0.00047561 0.00199257 0.00199257]\n",
      "weight\n",
      " 1.0\n",
      "0.77491961414791 \n",
      " 2 [0.00209965 0.00209965 0.00026601 0.00209965 0.00209965]\n",
      "weight\n",
      " 0.9999999999999999\n",
      "0.7588424437299035 \n",
      " 3 [0.00217305 0.00217305 0.00014993 0.00217305 0.00217305]\n",
      "weight\n",
      " 0.9999999999999999\n",
      "0.7331189710610932 \n",
      " 4 [2.21944379e-03 2.21944379e-03 8.15203496e-05 2.21944379e-03\n",
      " 2.21944379e-03]\n",
      "weight\n",
      " 1.0\n",
      "0.7636655948553055 \n",
      " 5 [2.26893224e-03 2.26893224e-03 3.98193347e-05 2.26893224e-03\n",
      " 2.26893224e-03]\n",
      "weight\n",
      " 1.0\n",
      "0.6961414790996785 \n",
      " 6 [2.29457289e-03 2.29457289e-03 2.10278834e-05 2.29457289e-03\n",
      " 2.29457289e-03]\n",
      "weight\n",
      " 1.0\n",
      "0.7234726688102894 \n",
      " 7 [2.31459451e-03 2.31459451e-03 1.11863842e-05 2.31459451e-03\n",
      " 2.31459451e-03]\n",
      "weight\n",
      " 1.0\n",
      "0.6881028938906752 \n",
      " 8 [2.32698917e-03 2.32698917e-03 6.01481000e-06 2.32698917e-03\n",
      " 2.32698917e-03]\n",
      "weight\n",
      " 1.0\n",
      "0.6816720257234726 \n",
      " 9 [2.33441912e-03 2.33441912e-03 3.33762729e-06 2.33441912e-03\n",
      " 2.33441912e-03]\n",
      "CPU times: user 28 s, sys: 16 ms, total: 28 s\n",
      "Wall time: 28 s\n"
     ]
    }
   ],
   "source": [
    "%%time\n",
    "max_iter = 10\n",
    "for i in range(max_iter):\n",
    "    dtc = DTC(weight=weight, min_samples=9, max_gini=0.3)\n",
    "    dtc.fit(X_train,y_train)\n",
    "    y_pred = dtc.predict(X_train, negative='True')\n",
    "    weight_history.append(weight)\n",
    "    e = np.sum(weight*(y_pred!=y_train))\n",
    "    a = np.log((1-e)/e + 1e-7)/2\n",
    "    L = np.exp(-a * y_pred * y_train)\n",
    "    z = np.sum(weight * L)\n",
    "    a_history.append(a)\n",
    "    classifiers.append(dtc)\n",
    "    weight = weight * L / z\n",
    "    print('weight\\n',np.sum(weight))\n",
    "    print(dtc.score(X_train,y_train),'\\n',i,weight[:5])"
   ]
  },
  {
   "cell_type": "code",
   "execution_count": 32,
   "metadata": {},
   "outputs": [
    {
     "data": {
      "text/plain": [
       "10.0"
      ]
     },
     "execution_count": 32,
     "metadata": {},
     "output_type": "execute_result"
    }
   ],
   "source": [
    "np.sum(weight_history)"
   ]
  },
  {
   "cell_type": "code",
   "execution_count": 33,
   "metadata": {},
   "outputs": [
    {
     "data": {
      "text/plain": [
       "0.700374531835206"
      ]
     },
     "execution_count": 33,
     "metadata": {},
     "output_type": "execute_result"
    }
   ],
   "source": [
    "y_pred = 0\n",
    "for i in range(len(classifiers)):\n",
    "    classifier = classifiers[i]\n",
    "    y_predi = classifier.predict(X_test)\n",
    "    for j in y_predi:\n",
    "        if j==0:\n",
    "            j = -1\n",
    "    y_predi = y_predi * a_history[i]\n",
    "    y_pred += y_predi\n",
    "y_pred = np.array(y_pred>0, dtype='int')\n",
    "np.sum(y_pred == y_test)/len(y_test)"
   ]
  }
 ],
 "metadata": {
  "kernelspec": {
   "display_name": "Python 3",
   "language": "python",
   "name": "python3"
  },
  "language_info": {
   "codemirror_mode": {
    "name": "ipython",
    "version": 3
   },
   "file_extension": ".py",
   "mimetype": "text/x-python",
   "name": "python",
   "nbconvert_exporter": "python",
   "pygments_lexer": "ipython3",
   "version": "3.7.0"
  }
 },
 "nbformat": 4,
 "nbformat_minor": 2
}
