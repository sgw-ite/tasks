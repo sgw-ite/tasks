{
 "cells": [
  {
   "cell_type": "code",
   "execution_count": 1,
   "metadata": {},
   "outputs": [],
   "source": [
    "import numpy as np\n",
    "import Feature_Engineering\n",
    "import metrics\n",
    "import train_test_split as tts\n",
    "import matplotlib.pyplot as plt\n",
    "from sklearn.datasets import load_wine  \n",
    "from network import NeuralNetworkClassifier\n",
    "from network import neuralnetwork"
   ]
  },
  {
   "cell_type": "markdown",
   "metadata": {},
   "source": [
    "### Titanic"
   ]
  },
  {
   "cell_type": "code",
   "execution_count": 2,
   "metadata": {},
   "outputs": [],
   "source": [
    "file = './train.csv'\n",
    "X_train, y_train = Feature_Engineering.datatransform(file)\n",
    "X_train, y_train, X_test, y_test = tts.holdout(X_train, y_train)\n",
    "Y_train = y_train.reshape((-1,1))\n",
    "Y_test = y_test.reshape((-1,1))"
   ]
  },
  {
   "cell_type": "markdown",
   "metadata": {},
   "source": [
    "### Wine"
   ]
  },
  {
   "cell_type": "code",
   "execution_count": 3,
   "metadata": {},
   "outputs": [],
   "source": [
    "from sklearn import datasets\n",
    "\n",
    "wines = datasets.load_wine()\n",
    "X_train, y_train = wines.data, wines.target\n",
    "X_train, y_train, X_test, y_test = tts.holdout(X_train, y_train)\n",
    "def transformy(y):\n",
    "    Y = np.zeros((len(y),max(y)+1))\n",
    "    for i in range(len(y)):\n",
    "        if y[i]==0:\n",
    "            Y[i][0] = 1\n",
    "        if y[i]==1:\n",
    "            Y[i][1] = 1\n",
    "        if y[i]==2:\n",
    "            Y[i][2] = 1\n",
    "    return Y\n",
    "Y_train, Y_test = transformy(y_train), transformy(y_test)\n",
    "for i in range(X_train.shape[1]):\n",
    "    X_train[:,i] = (X_train[:,i] - np.mean(X_train[:,i])) / np.std(X_train[:,i])\n",
    "for i in range(X_test.shape[1]):\n",
    "    X_test[:,i] = (X_test[:,i] - np.mean(X_test[:,i])) / np.std(X_test[:,i])"
   ]
  },
  {
   "cell_type": "code",
   "execution_count": 14,
   "metadata": {},
   "outputs": [
    {
     "data": {
      "image/png": "[encoded data removed]",
      "text/plain": [
       "<Figure size 432x288 with 1 Axes>"
      ]
     },
     "metadata": {
      "needs_background": "light"
     },
     "output_type": "display_data"
    },
    {
     "name": "stdout",
     "output_type": "stream",
     "text": [
      "CPU times: user 3.66 s, sys: 4.05 ms, total: 3.66 s\n",
      "Wall time: 3.66 s\n"
     ]
    }
   ],
   "source": [
    "%%time\n",
    "nnc = NeuralNetworkClassifier(network=neuralnetwork, X_train=X_train, Y_train=Y_train, layer_num=3, hidlayer_nodenum=3)\n",
    "nnc.fit()"
   ]
  },
  {
   "cell_type": "code",
   "execution_count": 15,
   "metadata": {},
   "outputs": [
    {
     "data": {
      "text/plain": [
       "0.9753086419753086"
      ]
     },
     "execution_count": 15,
     "metadata": {},
     "output_type": "execute_result"
    }
   ],
   "source": [
    "nnc.score(X_test,Y_test)"
   ]
  },
  {
   "cell_type": "code",
   "execution_count": null,
   "metadata": {},
   "outputs": [],
   "source": []
  }
 ],
 "metadata": {
  "kernelspec": {
   "display_name": "Python 3",
   "language": "python",
   "name": "python3"
  },
  "language_info": {
   "codemirror_mode": {
    "name": "ipython",
    "version": 3
   },
   "file_extension": ".py",
   "mimetype": "text/x-python",
   "name": "python",
   "nbconvert_exporter": "python",
   "pygments_lexer": "ipython3",
   "version": "3.7.0"
  }
 },
 "nbformat": 4,
 "nbformat_minor": 2
}
