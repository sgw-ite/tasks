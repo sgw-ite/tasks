{
 "cells": [
  {
   "cell_type": "code",
   "execution_count": 1,
   "metadata": {},
   "outputs": [],
   "source": [
    "import numpy as np"
   ]
  },
  {
   "cell_type": "code",
   "execution_count": null,
   "metadata": {},
   "outputs": [],
   "source": [
    "class softmax():\n",
    "    '''\n",
    "    params:\n",
    "    Z: a matrix of input datas\n",
    "    '''\n",
    "    \n",
    "    def __init__(self, node_num=3, lastlayer_node_num=20, datas_size=200):\n",
    "        self.size = size\n",
    "        self.Z = np.ones((datas_size,node_num))\n",
    "        self.A = self.Z.copy()\n",
    "        \n",
    "    def forward(self):\n",
    "        for i in range(self.Z.shape[0]):\n",
    "            for j in range(self.Z.shape[1]):\n",
    "                denominater += np.exp(self.Z[i][j])\n",
    "            for j in range(self.Z.shape[1]):\n",
    "                self.A[i][j] = np.exp(self.Z[i][j]) / denominater\n",
    "        \n",
    "    def backward(self):\n",
    "        "
   ]
  }
 ],
 "metadata": {
  "kernelspec": {
   "display_name": "Python 3",
   "language": "python",
   "name": "python3"
  },
  "language_info": {
   "codemirror_mode": {
    "name": "ipython",
    "version": 3
   },
   "file_extension": ".py",
   "mimetype": "text/x-python",
   "name": "python",
   "nbconvert_exporter": "python",
   "pygments_lexer": "ipython3",
   "version": "3.7.0"
  }
 },
 "nbformat": 4,
 "nbformat_minor": 2
}
