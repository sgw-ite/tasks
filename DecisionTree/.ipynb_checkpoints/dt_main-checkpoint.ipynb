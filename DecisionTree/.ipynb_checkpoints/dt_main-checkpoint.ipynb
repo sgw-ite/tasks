{
 "cells": [
  {
   "cell_type": "code",
   "execution_count": 1,
   "metadata": {
    "scrolled": false
   },
   "outputs": [],
   "source": [
    "import numpy as np\n",
    "import pandas as pd\n",
    "import matplotlib.pyplot as plt\n",
    "import Feature_Engineering #特征工程处理\n",
    "import train_test_split as tts\n",
    "\n",
    "from DTClassifier import DTClassifier as DT\n",
    "from sklearn import tree"
   ]
  },
  {
   "cell_type": "markdown",
   "metadata": {},
   "source": [
    "### Wine数据集"
   ]
  },
  {
   "cell_type": "code",
   "execution_count": 13,
   "metadata": {},
   "outputs": [],
   "source": [
    "from sklearn import datasets\n",
    "\n",
    "wines = datasets.load_wine()\n",
    "X_train, y_train = wines.data, wines.target\n",
    "X_train, y_train, X_test, y_test = tts.holdout(X_train, y_train)"
   ]
  },
  {
   "cell_type": "code",
   "execution_count": 24,
   "metadata": {},
   "outputs": [
    {
     "name": "stdout",
     "output_type": "stream",
     "text": [
      "0.9629629629629629 0.18 0\n",
      "CPU times: user 17.8 s, sys: 3.98 ms, total: 17.8 s\n",
      "Wall time: 17.8 s\n"
     ]
    }
   ],
   "source": [
    "%%time\n",
    "best_score = 0\n",
    "best_max_gini = None\n",
    "best_min_samples = None\n",
    "\n",
    "for max_gini in [j/100 for j in range(10,20)]:\n",
    "    for min_samples in range(0,4):\n",
    "        dt = DT(max_gini, min_samples)\n",
    "        dt.fit(X_train, y_train)\n",
    "        score = dt.score(X_test,y_test)\n",
    "        if score > best_score:\n",
    "            best_score, best_max_gini, best_min_samples = score, max_gini, min_samples\n",
    "\n",
    "print(best_score, best_max_gini, best_min_samples)"
   ]
  },
  {
   "cell_type": "markdown",
   "metadata": {},
   "source": [
    "### Titanic数据集"
   ]
  },
  {
   "cell_type": "code",
   "execution_count": 5,
   "metadata": {},
   "outputs": [],
   "source": [
    "X_train, y_train = Feature_Engineering.datatransform(file='./train.csv')\n",
    "X_train, y_train, X_test, y_test = tts.holdout(X_train, y_train)"
   ]
  },
  {
   "cell_type": "code",
   "execution_count": null,
   "metadata": {},
   "outputs": [],
   "source": [
    "X_train, y_train = Feature_Engineering.datatransform(file='./train.csv')\n",
    "X_train, y_train, X_test, y_test = tts.bootstrapping(X_train, y_train)"
   ]
  },
  {
   "cell_type": "code",
   "execution_count": 12,
   "metadata": {},
   "outputs": [
    {
     "name": "stdout",
     "output_type": "stream",
     "text": [
      "0.8089887640449438 0.27 6\n",
      "CPU times: user 1min 41s, sys: 3.96 ms, total: 1min 41s\n",
      "Wall time: 1min 41s\n"
     ]
    }
   ],
   "source": [
    "%%time\n",
    "best_score = 0\n",
    "best_max_gini = None\n",
    "best_min_samples = None\n",
    "\n",
    "for max_gini in [j/100 for j in range(20,30)]:\n",
    "    for min_samples in range(5,10):\n",
    "        dt = DT(max_gini, min_samples)\n",
    "        dt.fit(X_train, y_train)\n",
    "        score = dt.score(X_test,y_test)\n",
    "        if score > best_score:\n",
    "            best_score, best_max_gini, best_min_samples = score, max_gini, min_samples\n",
    "\n",
    "print(best_score, best_max_gini, best_min_samples)"
   ]
  },
  {
   "cell_type": "markdown",
   "metadata": {},
   "source": [
    "***可能是因为Wine数据集样本数据较Titanic少很多，所以两者适合的决策树大不一样***"
   ]
  },
  {
   "cell_type": "code",
   "execution_count": 6,
   "metadata": {},
   "outputs": [
    {
     "data": {
      "text/plain": [
       "0.9444444444444444"
      ]
     },
     "execution_count": 6,
     "metadata": {},
     "output_type": "execute_result"
    }
   ],
   "source": [
    "sdt = tree.DecisionTreeClassifier()\n",
    "sdt.fit(X_train, y_train)\n",
    "sdt.score(X_test,y_test)"
   ]
  },
  {
   "cell_type": "code",
   "execution_count": 9,
   "metadata": {},
   "outputs": [
    {
     "data": {
      "text/plain": [
       "0.7265917602996255"
      ]
     },
     "execution_count": 9,
     "metadata": {},
     "output_type": "execute_result"
    }
   ],
   "source": [
    "sdt.score(X_test,y_test)"
   ]
  }
 ],
 "metadata": {
  "kernelspec": {
   "display_name": "Python 3",
   "language": "python",
   "name": "python3"
  },
  "language_info": {
   "codemirror_mode": {
    "name": "ipython",
    "version": 3
   },
   "file_extension": ".py",
   "mimetype": "text/x-python",
   "name": "python",
   "nbconvert_exporter": "python",
   "pygments_lexer": "ipython3",
   "version": "3.7.0"
  }
 },
 "nbformat": 4,
 "nbformat_minor": 2
}
