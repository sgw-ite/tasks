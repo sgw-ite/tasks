{
 "cells": [
  {
   "cell_type": "code",
   "execution_count": 47,
   "metadata": {
    "scrolled": true
   },
   "outputs": [
    {
     "data": {
      "text/plain": [
       "True"
      ]
     },
     "execution_count": 47,
     "metadata": {},
     "output_type": "execute_result"
    }
   ],
   "source": [
    "import numpy as np\n",
    "d = {(1,0):{1:'yes',0:'no'},0:{1:'noo',0:'yees'}}\n",
    "x = np.array([[10,2],[3,4]])\n",
    "dim = [0,1]\n",
    "value = [1.5,0.5]\n",
    "#for i in x[dim[1]]:\n",
    "#    for j in range(len(value)):\n",
    "#        print(d[i>value[j]])\n",
    "type(d) == dict"
   ]
  },
  {
   "cell_type": "code",
   "execution_count": 45,
   "metadata": {},
   "outputs": [
    {
     "data": {
      "text/plain": [
       "0.5"
      ]
     },
     "execution_count": 45,
     "metadata": {},
     "output_type": "execute_result"
    }
   ],
   "source": [
    "from collections import Counter\n",
    "def _gini(y):\n",
    "        '''计算某节点上的数据的gini'''\n",
    "        counter = Counter(y)\n",
    "        gini = 0.\n",
    "        for i in counter.values():\n",
    "            r = i / len(y)\n",
    "            gini += r ** 2\n",
    "        gini = 1 - gini\n",
    "        return gini\n",
    "y = np.array([1,0,0,1,1,0])\n",
    "_gini(y)"
   ]
  }
 ],
 "metadata": {
  "kernelspec": {
   "display_name": "Python 3",
   "language": "python",
   "name": "python3"
  },
  "language_info": {
   "codemirror_mode": {
    "name": "ipython",
    "version": 3
   },
   "file_extension": ".py",
   "mimetype": "text/x-python",
   "name": "python",
   "nbconvert_exporter": "python",
   "pygments_lexer": "ipython3",
   "version": "3.7.0"
  }
 },
 "nbformat": 4,
 "nbformat_minor": 2
}
