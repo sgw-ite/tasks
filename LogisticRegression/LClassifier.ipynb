{
 "cells": [
  {
   "cell_type": "code",
   "execution_count": 2,
   "metadata": {},
   "outputs": [],
   "source": [
    "import numpy as np\n",
    "\n",
    "class LClassifier():\n",
    "    \n",
    "    def __init__(self):\n",
    "        self.theta = None\n",
    "\n",
    "    def _sigmoid(self, t):\n",
    "        return (1. / (1. + np.exp(t)))\n",
    "    \n",
    "    def fit(self, X_train, y_train):\n",
    "        def J(X_b, y, theta):\n",
    "            y_hat = self._sigmoid(X_b.dot(theta))\n",
    "            J = -np.sum(y * np.log(y_hat) +  (1 - y) * np.log(1 - y_hat)) / len(y)\n",
    "            return J #直接把一长串放在return里面还是这样子勒\n",
    "        \n",
    "        def dJ(theta, X_b, y):\n",
    "            y_hat = self._sigmoid(X_b.dot(theta))\n",
    "            gradient = X_b.T.dot(y_hat - y) / len(y)\n",
    "            return gradient\n",
    "        \n",
    "        def gradient_decent(X_b, y, eta=0.001, max_iter = 1e4, epsilon = 1e-4):\n",
    "            theta = np.zeros(X_b.shape[1])\n",
    "            cur_iter = 0\n",
    "            while cur_iter < max_iter:                \n",
    "                gradient = dJ(theta, X_b, y)\n",
    "                lasttheta = theta\n",
    "                theta = theta - eta * gradient\n",
    "                cur_iter += 1\n",
    "                if abs(J(X_b, y, theta) - J(X_b, y, lasttheta)) < epsilon:\n",
    "                    break\n",
    "            return theta\n",
    "        \n",
    "        X_b = np.hstack([X_train, np.ones((X_train.shape[0],1))])\n",
    "        theta = gradient_decent(X_b, y=y_train)\n",
    "        self.theta = theta\n",
    "        return self\n",
    "        \n",
    "    def predict(X_pred):\n",
    "        X_b = np.hstack([X_pred, np.ones((X_pred.shape[0],1))])\n",
    "        p = self._sigmoid(X_b.dot(self.theta))\n",
    "        y_pred = np.array(p >= 0.5, dtype='int')\n",
    "        return y_pred\n",
    "    \n",
    "    def __repr__(self):\n",
    "        return \"LClassifier()\""
   ]
  },
  {
   "cell_type": "code",
   "execution_count": null,
   "metadata": {
    "collapsed": true
   },
   "outputs": [],
   "source": []
  }
 ],
 "metadata": {
  "kernelspec": {
   "display_name": "Python 3",
   "language": "python",
   "name": "python3"
  },
  "language_info": {
   "codemirror_mode": {
    "name": "ipython",
    "version": 3
   },
   "file_extension": ".py",
   "mimetype": "text/x-python",
   "name": "python",
   "nbconvert_exporter": "python",
   "pygments_lexer": "ipython3",
   "version": "3.7.0"
  }
 },
 "nbformat": 4,
 "nbformat_minor": 2
}
