{
 "cells": [
  {
   "cell_type": "code",
   "execution_count": 1,
   "metadata": {},
   "outputs": [],
   "source": [
    "import numpy as np "
   ]
  },
  {
   "cell_type": "code",
   "execution_count": 2,
   "metadata": {},
   "outputs": [],
   "source": [
    "def holdout(X_train, y_train, rate = 0.7):\n",
    "    np.random.seed(666)\n",
    "    np.random.shuffle(X_train)\n",
    "    np.random.seed(666)\n",
    "    np.random.shuffle(y_train)\n",
    "    _X_train = X_train[:(int(X_train.shape[0] * rate)), :]\n",
    "    _X_test = X_train[(int(X_train.shape[0] * rate)):, :]\n",
    "    _y_train = y_train[:(int(y_train.shape[0] * rate))]\n",
    "    _y_test = y_train[(int(y_train.shape[0] * rate)):]\n",
    "    return _X_train, _y_train, _X_test, _y_test"
   ]
  },
  {
   "cell_type": "code",
   "execution_count": 3,
   "metadata": {},
   "outputs": [],
   "source": [
    "def bootstrapping(X_train, y_train):\n",
    "    _X_train = np.ones((1,X_train.shape[1]))\n",
    "    _y_train = np.ones(1)\n",
    "    X_test = X_train.copy()\n",
    "    y_test = y_train.copy()\n",
    "    ind = []\n",
    "    for i in range(len(X_train)):\n",
    "        _X_train = np.vstack([_X_train,(X_train[np.random.randint(0,(len(X_train) - 1))])])\n",
    "        _y_train = np.append(_y_train.tolist(), y_train[np.random.randint(0,(len(X_train) - 1))].tolist())\n",
    "    _X_train = _X_train[1:,:]\n",
    "    _y_train = _y_train[1:]\n",
    "    for i in range(len(_X_train)):\n",
    "        for j in range(len(X_train)):\n",
    "            sum = 0\n",
    "            for k in range(X_train.shape[1]):\n",
    "                if _X_train[i][k] == X_train[j][k]:\n",
    "                    sum += 1\n",
    "            if sum == X_train.shape[1]:\n",
    "                ind.append(j)\n",
    "    _X_test = np.delete(X_train,ind,0)\n",
    "    _y_test = np.delete(y_train,ind,0)\n",
    "    return _X_train, _y_train, _X_test, _y_test"
   ]
  },
  {
   "cell_type": "code",
   "execution_count": 4,
   "metadata": {},
   "outputs": [],
   "source": [
    "def crossvalidation(X_train, y_train, k, p, myclassifier, scoring):\n",
    "    '''因为返回的是很多组的X_train等（不想前面只返回一组，在主函数里引用也要重新写一段代码才可以利用，干脆就直接令他返回结果了'''\n",
    "    ind = [i for i in range(k)]\n",
    "    Score_history = []\n",
    "    for j in range(p):\n",
    "        np.random.seed(666)\n",
    "        np.random.shuffle(X_train)\n",
    "        np.random.seed(666)\n",
    "        np.random.shuffle(y_train)\n",
    "        num = X_train.shape[0] // k\n",
    "        X = np.zeros((k*num,X_train.shape[1]))\n",
    "        y = np.zeros(k*num)\n",
    "        for i in range(k):\n",
    "            X[i * num:(i+1) * num,:] = X_train[i * num:(i+1) * num,:]\n",
    "            y[i * num:(i+1) * num] = y_train[i * num:(i+1) * num]\n",
    "        #X[k-1] = X_train[(k-1) * num:, :]\n",
    "        #y[k-1] = y_train[(k-1) * num:]\n",
    "        clf = myclassifier()\n",
    "        score_history = []\n",
    "        \n",
    "        for i in range(k-1):\n",
    "            if i == 0:\n",
    "                X_train_ = X[(i+1)*num:,:]\n",
    "                y_train_ = y[(i+1)*num:]\n",
    "            else:\n",
    "                X_train_ = np.vstack([X[:(i*num),:], X[(i+1)*num:,:]])\n",
    "                y_train_ = np.hstack([y[:(i*num)], y[(i+1)*num:]])\n",
    "            X_test = X[(i*num):(i+1)*num,:]\n",
    "            y_test = y[(i*num):(i+1)*num]\n",
    "            clf.fit(X_train_,y_train_)\n",
    "            y_pred = clf.predict(X_test)\n",
    "            score_history.append(scoring(y_pred, y_test))\n",
    "        Score_history.append(np.mean(score_history))\n",
    "    return np.mean(Score_history)"
   ]
  }
 ],
 "metadata": {
  "kernelspec": {
   "display_name": "Python 3",
   "language": "python",
   "name": "python3"
  },
  "language_info": {
   "codemirror_mode": {
    "name": "ipython",
    "version": 3
   },
   "file_extension": ".py",
   "mimetype": "text/x-python",
   "name": "python",
   "nbconvert_exporter": "python",
   "pygments_lexer": "ipython3",
   "version": "3.7.0"
  }
 },
 "nbformat": 4,
 "nbformat_minor": 2
}
