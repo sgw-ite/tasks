{
 "cells": [
  {
   "cell_type": "code",
   "execution_count": 1,
   "metadata": {},
   "outputs": [],
   "source": [
    "import numpy as np\n",
    "\n",
    "\n",
    "def confusion_metrix(y_pred, y_test):\n",
    "    TN = np.sum((y_pred == 1) & (y_test == 1))\n",
    "    FN = np.sum((y_pred == 1) & (y_test == 0))\n",
    "    TP = np.sum((y_pred == 0) & (y_test == 0))\n",
    "    FP = np.sum((y_pred == 0) & (y_test == 1))\n",
    "    return TN, FN, TP, FP\n",
    "def acc_score(y_pred, y_test):\n",
    "    return np.sum(y_pred == y_test) / len(y_pred)\n",
    "\n",
    "def precisionrate(y_pred, y_test):\n",
    "    TN, FN, TP, FP = confusion_metrix(y_pred, y_test)\n",
    "    precisionrate = TP / (TP + FP)\n",
    "    return precisionrate\n",
    "\n",
    "def recall(y_pred, y_test):\n",
    "    TN, FN, TP, FP = confusion_metrix(y_pred, y_test)\n",
    "    recall = TP / (TP + FN)\n",
    "    return recall\n",
    "                 \n",
    "def F1_score(y_pred, y_test):\n",
    "    TN, FN, TP, FP = confusion_metrix(y_pred, y_test)\n",
    "    F1_score = (2 * TP) / (len(y_pred) + TP - TN)\n",
    "    return F1_score"
   ]
  }
 ],
 "metadata": {
  "kernelspec": {
   "display_name": "Python 3",
   "language": "python",
   "name": "python3"
  },
  "language_info": {
   "codemirror_mode": {
    "name": "ipython",
    "version": 3
   },
   "file_extension": ".py",
   "mimetype": "text/x-python",
   "name": "python",
   "nbconvert_exporter": "python",
   "pygments_lexer": "ipython3",
   "version": "3.7.0"
  }
 },
 "nbformat": 4,
 "nbformat_minor": 2
}
