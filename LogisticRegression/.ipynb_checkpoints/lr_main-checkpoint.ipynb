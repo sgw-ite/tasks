{
 "cells": [
  {
   "cell_type": "code",
   "execution_count": 1,
   "metadata": {
    "scrolled": false
   },
   "outputs": [
    {
     "name": "stderr",
     "output_type": "stream",
     "text": [
      "/home/sgw/anaconda3/lib/python3.7/site-packages/sklearn/ensemble/weight_boosting.py:29: DeprecationWarning: numpy.core.umath_tests is an internal NumPy module and should not be imported. It will be removed in a future NumPy release.\n",
      "  from numpy.core.umath_tests import inner1d\n"
     ]
    }
   ],
   "source": [
    "import numpy as np\n",
    "import pandas as pd\n",
    "import matplotlib.pyplot as plt\n",
    "import metrics #模型评估\n",
    "import train_test_split as tts #数据划分\n",
    "import Feature_Engineering #特征工程处理\n",
    "from sklearn.linear_model import LogisticRegression #sklearn的分类器\n",
    "from LClassifier import LClassifier #我自己的分类器\n",
    "from sklearn.ensemble import RandomForestClassifier #sklearn的随机森林分布器"
   ]
  },
  {
   "cell_type": "code",
   "execution_count": 2,
   "metadata": {},
   "outputs": [],
   "source": [
    "from sklearn import datasets\n",
    "\n",
    "wines = datasets.load_wine()\n",
    "X_train, y_train = wines.data, wines.target"
   ]
  },
  {
   "cell_type": "code",
   "execution_count": null,
   "metadata": {},
   "outputs": [],
   "source": [
    "X_train, y_train = Feature_Engineering.datatransform(file='./train.csv') #特征工程"
   ]
  },
  {
   "cell_type": "code",
   "execution_count": 3,
   "metadata": {
    "scrolled": false
   },
   "outputs": [
    {
     "name": "stderr",
     "output_type": "stream",
     "text": [
      "/home/sgw/tasks/titanic/LogisticRegression/LClassifier.py:20: RuntimeWarning: divide by zero encountered in log\n",
      "  return - np.sum(y*np.log(p) + (1-y)*np.log(1-p)) / len(y) #直接把一长串放在return里面还是这样子勒\n",
      "/home/sgw/tasks/titanic/LogisticRegression/LClassifier.py:20: RuntimeWarning: invalid value encountered in multiply\n",
      "  return - np.sum(y*np.log(p) + (1-y)*np.log(1-p)) / len(y) #直接把一长串放在return里面还是这样子勒\n",
      "/home/sgw/anaconda3/lib/python3.7/site-packages/numpy/core/fromnumeric.py:83: RuntimeWarning: invalid value encountered in reduce\n",
      "  return ufunc.reduce(obj, axis, dtype, out, **passkwargs)\n"
     ]
    },
    {
     "data": {
      "text/plain": [
       "array([1, 1, 0, 1, 1, 0, 1, 1, 1, 1, 1, 1, 1, 0, 1, 1, 1, 0, 1, 1, 1, 0,\n",
       "       0, 0, 1, 0, 1, 1, 1, 1, 1, 1, 1, 1, 1, 1, 1, 1, 1, 1, 1, 1, 0, 1,\n",
       "       1, 0, 1, 1, 1, 1, 1, 1, 1, 1])"
      ]
     },
     "execution_count": 3,
     "metadata": {},
     "output_type": "execute_result"
    }
   ],
   "source": [
    "X_train, y_train, X_test, y_test = tts.holdout(X_train, y_train)\n",
    "#res = tts.crossvalidation(X_train, y_train, myclassifier=LogisticRegression,k=10, p=10, scoring=metrics.acc_score)\n",
    "#自此，数据划分结束，开始训练模型\n",
    "\n",
    "\n",
    "lclf = LClassifier()\n",
    "lclf.fit(X_train, y_train)\n",
    "y_pred = lclf.predict(X_test)\n",
    "lclf.predict(X_test)\n",
    "\n",
    "#随机森林：\n",
    "#cfclf = RandomForestClassifier(n_estimators=300, n_jobs=-1, oob_score=True, random_state=666)\n",
    "#cfclf.fit(X_train,y_train)\n",
    "#cfclf.oob_score_\n",
    "#自此模型训练完毕，开始获取评分"
   ]
  },
  {
   "cell_type": "code",
   "execution_count": 4,
   "metadata": {},
   "outputs": [
    {
     "name": "stdout",
     "output_type": "stream",
     "text": [
      "acc_score = 0.5185185185185185 ,recall = 0.5555555555555556 ,precisionrate = 1.0 ,F1_score = 0.43478260869565216\n"
     ]
    }
   ],
   "source": [
    "acc_score = lclf.score(X_test, y_test, metrics.acc_score)\n",
    "recall = lclf.score(X_test, y_test, metrics.recall)\n",
    "precisionrate = lclf.score(X_test, y_test, metrics.precisionrate) \n",
    "F1_score= lclf.score(X_test, y_test, metrics.F1_score)\n",
    "print('acc_score =', acc_score, ',recall =', recall, ',precisionrate =', precisionrate, ',F1_score =', F1_score)"
   ]
  },
  {
   "cell_type": "code",
   "execution_count": 5,
   "metadata": {},
   "outputs": [
    {
     "data": {
      "text/plain": [
       "0.9259259259259259"
      ]
     },
     "execution_count": 5,
     "metadata": {},
     "output_type": "execute_result"
    }
   ],
   "source": [
    "test = LogisticRegression()\n",
    "test.fit(X_train,y_train)\n",
    "test.score(X_test, y_test)"
   ]
  },
  {
   "cell_type": "code",
   "execution_count": 4,
   "metadata": {
    "scrolled": false
   },
   "outputs": [
    {
     "name": "stderr",
     "output_type": "stream",
     "text": [
      "/home/sgw/anaconda3/lib/python3.7/site-packages/ipykernel_launcher.py:11: RuntimeWarning: invalid value encountered in long_scalars\n",
      "  # This is added back by InteractiveShellApp.init_path()\n"
     ]
    }
   ],
   "source": [
    "#绘制roc,p-r\n",
    "TPR_history = []\n",
    "FPR_history = []\n",
    "P_history = []\n",
    "R_history = []\n",
    "for i in range(100):\n",
    "    y_pred = lclf.predict(X_test, rate=(i * 0.01))\n",
    "    TN, FN, TP, FP = metrics.confusion_metrix(y_pred, y_test)\n",
    "    TPR = TP / (TP + FN)\n",
    "    FPR = FP / (TN + FP)\n",
    "    precisionrate = TP / (TP + FP)\n",
    "    recall = TP / (TP + FN)\n",
    "    TPR_history.append(TPR)\n",
    "    FPR_history.append(FPR)\n",
    "    P_history.append(precisionrate)\n",
    "    R_history.append(recall)\n",
    "#这里应该是precisionrate有关的那两行出了问题，？"
   ]
  },
  {
   "cell_type": "code",
   "execution_count": 5,
   "metadata": {
    "scrolled": false
   },
   "outputs": [
    {
     "data": {
      "text/plain": [
       "<function matplotlib.pyplot.show(*args, **kw)>"
      ]
     },
     "execution_count": 5,
     "metadata": {},
     "output_type": "execute_result"
    },
    {
     "data": {
      "image/png": "[encoded data removed]",
      "text/plain": [
       "<Figure size 432x288 with 1 Axes>"
      ]
     },
     "metadata": {
      "needs_background": "light"
     },
     "output_type": "display_data"
    }
   ],
   "source": [
    "plt.plot(FPR_history, TPR_history)\n",
    "plt.axis([0,1,0,1])\n",
    "plt.show\n",
    "#怎么这么不光滑= ="
   ]
  },
  {
   "cell_type": "code",
   "execution_count": 6,
   "metadata": {
    "scrolled": true
   },
   "outputs": [
    {
     "data": {
      "text/plain": [
       "<function matplotlib.pyplot.show(*args, **kw)>"
      ]
     },
     "execution_count": 6,
     "metadata": {},
     "output_type": "execute_result"
    },
    {
     "data": {
      "image/png": "[encoded data removed]",
      "text/plain": [
       "<Figure size 432x288 with 1 Axes>"
      ]
     },
     "metadata": {
      "needs_background": "light"
     },
     "output_type": "display_data"
    }
   ],
   "source": [
    "plt.plot(P_history,R_history)\n",
    "plt.axis([0,1,0,1])\n",
    "plt.show"
   ]
  },
  {
   "cell_type": "code",
   "execution_count": 7,
   "metadata": {
    "scrolled": true
   },
   "outputs": [
    {
     "name": "stdout",
     "output_type": "stream",
     "text": [
      "AUC = 0.8368273934311672\n"
     ]
    }
   ],
   "source": [
    "AUC = 0.5*sum([((FPR_history[i] - FPR_history[i-1]) * (TPR_history[i] + TPR_history[i-1])) for i in range(1,len(TPR_history))])\n",
    "print('AUC =', AUC)"
   ]
  },
  {
   "cell_type": "code",
   "execution_count": null,
   "metadata": {},
   "outputs": [],
   "source": []
  }
 ],
 "metadata": {
  "kernelspec": {
   "display_name": "Python 3",
   "language": "python",
   "name": "python3"
  },
  "language_info": {
   "codemirror_mode": {
    "name": "ipython",
    "version": 3
   },
   "file_extension": ".py",
   "mimetype": "text/x-python",
   "name": "python",
   "nbconvert_exporter": "python",
   "pygments_lexer": "ipython3",
   "version": "3.7.0"
  }
 },
 "nbformat": 4,
 "nbformat_minor": 2
}
